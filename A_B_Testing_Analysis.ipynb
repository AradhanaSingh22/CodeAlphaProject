{
  "nbformat": 4,
  "nbformat_minor": 0,
  "metadata": {
    "colab": {
      "provenance": [],
      "authorship_tag": "ABX9TyNIiCv/NVVtNF4u6xD4VYMO",
      "include_colab_link": true
    },
    "kernelspec": {
      "name": "python3",
      "display_name": "Python 3"
    },
    "language_info": {
      "name": "python"
    }
  },
  "cells": [
    {
      "cell_type": "markdown",
      "metadata": {
        "id": "view-in-github",
        "colab_type": "text"
      },
      "source": [
        "<a href=\"https://colab.research.google.com/github/AradhanaSingh22/CodeAlphaProject/blob/Tasks/A_B_Testing_Analysis.ipynb\" target=\"_parent\"><img src=\"https://colab.research.google.com/assets/colab-badge.svg\" alt=\"Open In Colab\"/></a>"
      ]
    },
    {
      "cell_type": "markdown",
      "source": [
        "# **TASK 3**"
      ],
      "metadata": {
        "id": "dEP7rwdx-0q6"
      }
    },
    {
      "cell_type": "markdown",
      "source": [
        "# **A/B Testing Analysis (sample Testing)**"
      ],
      "metadata": {
        "id": "dOfWxF62-0RU"
      }
    },
    {
      "cell_type": "code",
      "execution_count": null,
      "metadata": {
        "colab": {
          "base_uri": "https://localhost:8080/"
        },
        "id": "jHBrOZe1936R",
        "outputId": "eb029255-8751-4f28-f3f2-e87f9771576a"
      },
      "outputs": [
        {
          "output_type": "stream",
          "name": "stdout",
          "text": [
            "Control Mean: 0.3\n",
            "Experimental Mean: 0.8\n",
            "Control Standard Deviation: 0.45825756949558405\n",
            "Experimental Standard Deviation: 0.4\n",
            "T-statistic: -2.465984809580359\n",
            "P-value: 0.023938919824614973\n",
            "The difference in conversion rates between the two groups is statistically significant.\n",
            "The experimental group performed better.\n"
          ]
        }
      ],
      "source": [
        "import numpy as np\n",
        "import scipy.stats as stats\n",
        "\n",
        "# Sample data (conversion rates for control and experimental groups)\n",
        "control_data = [0, 1, 0, 0, 1, 0, 0, 0, 0, 1]  # Example control group data\n",
        "experimental_data = [1, 1, 1, 0, 1, 1, 0, 1, 1, 1]  # Example experimental group data\n",
        "\n",
        "# Calculate means and standard deviations\n",
        "control_mean = np.mean(control_data)\n",
        "experimental_mean = np.mean(experimental_data)\n",
        "control_std = np.std(control_data)\n",
        "experimental_std = np.std(experimental_data)\n",
        "\n",
        "# Perform t-test\n",
        "t_stat, p_value = stats.ttest_ind(control_data, experimental_data)\n",
        "\n",
        "# Print results\n",
        "print(\"Control Mean:\", control_mean)\n",
        "print(\"Experimental Mean:\", experimental_mean)\n",
        "print(\"Control Standard Deviation:\", control_std)\n",
        "print(\"Experimental Standard Deviation:\", experimental_std)\n",
        "print(\"T-statistic:\", t_stat)\n",
        "print(\"P-value:\", p_value)\n",
        "\n",
        "# Interpret results\n",
        "if p_value < 0.05:\n",
        "    print(\"The difference in conversion rates between the two groups is statistically significant.\")\n",
        "    if experimental_mean > control_mean:\n",
        "        print(\"The experimental group performed better.\")\n",
        "    else:\n",
        "        print(\"The control group performed better.\")\n",
        "else:\n",
        "    print(\"There is not enough evidence to reject the null hypothesis.\")\n"
      ]
    }
  ]
}