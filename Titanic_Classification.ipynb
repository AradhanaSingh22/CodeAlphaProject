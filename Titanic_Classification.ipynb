{
  "nbformat": 4,
  "nbformat_minor": 0,
  "metadata": {
    "colab": {
      "provenance": [],
      "authorship_tag": "ABX9TyNy5ITFbP8UvNIUpayxWSp2",
      "include_colab_link": true
    },
    "kernelspec": {
      "name": "python3",
      "display_name": "Python 3"
    },
    "language_info": {
      "name": "python"
    }
  },
  "cells": [
    {
      "cell_type": "markdown",
      "metadata": {
        "id": "view-in-github",
        "colab_type": "text"
      },
      "source": [
        "<a href=\"https://colab.research.google.com/github/AradhanaSingh22/CodeAlphaProject/blob/Tasks/Titanic_Classification.ipynb\" target=\"_parent\"><img src=\"https://colab.research.google.com/assets/colab-badge.svg\" alt=\"Open In Colab\"/></a>"
      ]
    },
    {
      "cell_type": "markdown",
      "source": [
        "# **TASK 1**"
      ],
      "metadata": {
        "id": "aNc6Z5Pg4Hvt"
      }
    },
    {
      "cell_type": "markdown",
      "source": [
        "# **Titanic Classification**"
      ],
      "metadata": {
        "id": "9rtxUtNS4SDl"
      }
    },
    {
      "cell_type": "markdown",
      "source": [
        "We'll have separate files for data loading, preprocessing, model building, evaluation, and main script.\n",
        "\n",
        "**data_loader.py:** Load the Titanic dataset.\n",
        "\n",
        "**data_preprocessing.py:** Preprocess the data (handle missing values, encode categorical variables).\n",
        "\n",
        "**model.py:** Build and train the classification model.\n",
        "\n",
        "**evaluation.py:** Evaluate the model (calculate accuracy, classification report).\n",
        "\n",
        "**main.py:** Main script to orchestrate the entire process. italicized text"
      ],
      "metadata": {
        "id": "7s8ieymkpUOt"
      }
    },
    {
      "cell_type": "markdown",
      "source": [
        "**Step 1 - data_loader.py:**"
      ],
      "metadata": {
        "id": "3QnF2fnNfvTX"
      }
    },
    {
      "cell_type": "code",
      "source": [
        "import pandas as pd\n",
        "\n",
        "def load_data(filepath=\"/content/archive (11).zip\"):\n",
        "    return pd.read_csv(filepath)"
      ],
      "metadata": {
        "id": "AvKDWRnhfv77"
      },
      "execution_count": null,
      "outputs": []
    },
    {
      "cell_type": "markdown",
      "source": [
        "**Step 2 - data_preprocessing.py:**"
      ],
      "metadata": {
        "id": "tsCBW8XBfwKh"
      }
    },
    {
      "cell_type": "code",
      "source": [
        "from sklearn.preprocessing import LabelEncoder\n",
        "\n",
        "def preprocess_data(data):\n",
        "    data.drop(['PassengerId', 'Name', 'Ticket', 'Cabin'], axis=1, inplace=True)\n",
        "    data['Age'].fillna(data['Age'].median(), inplace=True)\n",
        "    data['Embarked'].fillna(data['Embarked'].mode()[0], inplace=True)\n",
        "    label_encoder = LabelEncoder()\n",
        "    data['Sex'] = label_encoder.fit_transform(data['Sex'])\n",
        "    data['Embarked'] = label_encoder.fit_transform(data['Embarked'])\n",
        "    return data\n"
      ],
      "metadata": {
        "id": "tvgYAJbkfwUy"
      },
      "execution_count": null,
      "outputs": []
    },
    {
      "cell_type": "markdown",
      "source": [
        "**Step 3 - model.py:**"
      ],
      "metadata": {
        "id": "hO9Oor6xfwfx"
      }
    },
    {
      "cell_type": "code",
      "source": [
        "from sklearn.ensemble import RandomForestClassifier\n",
        "\n",
        "def build_model():\n",
        "    return RandomForestClassifier(n_estimators=100, random_state=42)\n",
        "\n",
        "def train_model(model, X_train, y_train):\n",
        "    model.fit(X_train, y_train)\n",
        "\n"
      ],
      "metadata": {
        "id": "LsxETst3fwpZ"
      },
      "execution_count": null,
      "outputs": []
    },
    {
      "cell_type": "markdown",
      "source": [
        "**Step 4 - evaluation.py:**"
      ],
      "metadata": {
        "id": "nw1Npk21fwyq"
      }
    },
    {
      "cell_type": "code",
      "source": [
        "from sklearn.metrics import accuracy_score, classification_report\n",
        "\n",
        "def evaluate_model(model, X_test, y_test):\n",
        "    y_pred = model.predict(X_test)\n",
        "    accuracy = accuracy_score(y_test, y_pred)\n",
        "    report = classification_report(y_test, y_pred)\n",
        "    return accuracy, report\n"
      ],
      "metadata": {
        "id": "4c63cwx0fw7C"
      },
      "execution_count": null,
      "outputs": []
    },
    {
      "cell_type": "markdown",
      "source": [
        "**Step 5 - main.py:**"
      ],
      "metadata": {
        "id": "aM8MF62PfxD5"
      }
    },
    {
      "cell_type": "code",
      "source": [
        "import pandas as pd\n",
        "from sklearn.model_selection import train_test_split\n",
        "from sklearn.ensemble import RandomForestClassifier\n",
        "from sklearn.metrics import accuracy_score, classification_report\n",
        "from sklearn.preprocessing import LabelEncoder\n",
        "\n",
        "# Load data\n",
        "titanic_data = pd.read_csv(\"/content/archive (11).zip\")\n",
        "\n",
        "# Display the first few rows of the dataset\n",
        "print(titanic_data.head())\n",
        "\n",
        "# Preprocess data\n",
        "titanic_data.drop(['PassengerId', 'Name', 'Ticket', 'Cabin'], axis=1, inplace=True)\n",
        "titanic_data['Age'].fillna(titanic_data['Age'].median(), inplace=True)\n",
        "titanic_data['Embarked'].fillna(titanic_data['Embarked'].mode()[0], inplace=True)\n",
        "label_encoder = LabelEncoder()\n",
        "titanic_data['Sex'] = label_encoder.fit_transform(titanic_data['Sex'])\n",
        "titanic_data['Embarked'] = label_encoder.fit_transform(titanic_data['Embarked'])\n",
        "\n",
        "# Split data into features and target variable\n",
        "X = titanic_data.drop('Survived', axis=1)\n",
        "y = titanic_data['Survived']\n",
        "\n",
        "# Split data into training and testing sets\n",
        "X_train, X_test, y_train, y_test = train_test_split(X, y, test_size=0.2, random_state=42)\n",
        "\n",
        "# Build and train the model\n",
        "clf = RandomForestClassifier(n_estimators=100, random_state=42)\n",
        "clf.fit(X_train, y_train)\n",
        "\n",
        "# Evaluate the model\n",
        "y_pred = clf.predict(X_test)\n",
        "accuracy = accuracy_score(y_test, y_pred)\n",
        "report = classification_report(y_test, y_pred)\n",
        "print(\"Accuracy:\", accuracy)\n",
        "print(\"Classification Report:\\n\", report)\n",
        "\n",
        "# Feature importance\n",
        "feature_importance = pd.Series(clf.feature_importances_, index=X.columns)\n",
        "print(\"Feature Importance:\\n\", feature_importance)\n",
        "\n"
      ],
      "metadata": {
        "colab": {
          "base_uri": "https://localhost:8080/"
        },
        "id": "uqWfXtdmeA35",
        "outputId": "c3327640-f78b-4774-fe5e-4d056fa1e42a"
      },
      "execution_count": null,
      "outputs": [
        {
          "output_type": "stream",
          "name": "stdout",
          "text": [
            "   PassengerId  Survived  Pclass  \\\n",
            "0            1         0       3   \n",
            "1            2         1       1   \n",
            "2            3         1       3   \n",
            "3            4         1       1   \n",
            "4            5         0       3   \n",
            "\n",
            "                                                Name     Sex   Age  SibSp  \\\n",
            "0                            Braund, Mr. Owen Harris    male  22.0      1   \n",
            "1  Cumings, Mrs. John Bradley (Florence Briggs Th...  female  38.0      1   \n",
            "2                             Heikkinen, Miss. Laina  female  26.0      0   \n",
            "3       Futrelle, Mrs. Jacques Heath (Lily May Peel)  female  35.0      1   \n",
            "4                           Allen, Mr. William Henry    male  35.0      0   \n",
            "\n",
            "   Parch            Ticket     Fare Cabin Embarked  \n",
            "0      0         A/5 21171   7.2500   NaN        S  \n",
            "1      0          PC 17599  71.2833   C85        C  \n",
            "2      0  STON/O2. 3101282   7.9250   NaN        S  \n",
            "3      0            113803  53.1000  C123        S  \n",
            "4      0            373450   8.0500   NaN        S  \n",
            "Accuracy: 0.8212290502793296\n",
            "Classification Report:\n",
            "               precision    recall  f1-score   support\n",
            "\n",
            "           0       0.83      0.88      0.85       105\n",
            "           1       0.81      0.74      0.77        74\n",
            "\n",
            "    accuracy                           0.82       179\n",
            "   macro avg       0.82      0.81      0.81       179\n",
            "weighted avg       0.82      0.82      0.82       179\n",
            "\n",
            "Feature Importance:\n",
            " Pclass      0.086957\n",
            "Sex         0.271410\n",
            "Age         0.249995\n",
            "SibSp       0.053685\n",
            "Parch       0.039897\n",
            "Fare        0.265010\n",
            "Embarked    0.033044\n",
            "dtype: float64\n"
          ]
        }
      ]
    }
  ]
}